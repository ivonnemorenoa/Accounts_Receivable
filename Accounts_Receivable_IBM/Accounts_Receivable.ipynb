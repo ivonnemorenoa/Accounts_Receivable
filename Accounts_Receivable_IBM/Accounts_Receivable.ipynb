{
 "cells": [
  {
   "cell_type": "markdown",
   "metadata": {},
   "source": [
    "## Accounts Receivable"
   ]
  },
  {
   "cell_type": "code",
   "execution_count": 3,
   "metadata": {},
   "outputs": [],
   "source": [
    "import pandas as pd\n",
    "import matplotlib as plt\n",
    "import numpy as np\n",
    "import json"
   ]
  },
  {
   "cell_type": "code",
   "execution_count": 6,
   "metadata": {},
   "outputs": [
    {
     "name": "stdout",
     "output_type": "stream",
     "text": [
      "c:\\Users\\User\\Documents\\Proyecto DataScience\\AccountsReceivable\\Accounts_Receivable_IBM\n"
     ]
    }
   ],
   "source": [
    "import os\n",
    "print(os.getcwd())"
   ]
  },
  {
   "cell_type": "code",
   "execution_count": 7,
   "metadata": {},
   "outputs": [],
   "source": [
    "df_finance_AR = pd.read_csv(\"C:/Users/User/Documents/Proyecto DataScience/AccountsReceivable/Finance-IBM-Accounts-Receivable.csv\")\n"
   ]
  },
  {
   "cell_type": "code",
   "execution_count": 8,
   "metadata": {},
   "outputs": [
    {
     "data": {
      "text/plain": [
       "(2466, 12)"
      ]
     },
     "execution_count": 8,
     "metadata": {},
     "output_type": "execute_result"
    }
   ],
   "source": [
    "df_finance_AR.shape"
   ]
  },
  {
   "cell_type": "markdown",
   "metadata": {},
   "source": [
    "2,466 filas y 12 columnas."
   ]
  },
  {
   "cell_type": "code",
   "execution_count": 11,
   "metadata": {},
   "outputs": [
    {
     "data": {
      "text/html": [
       "<div>\n",
       "<style scoped>\n",
       "    .dataframe tbody tr th:only-of-type {\n",
       "        vertical-align: middle;\n",
       "    }\n",
       "\n",
       "    .dataframe tbody tr th {\n",
       "        vertical-align: top;\n",
       "    }\n",
       "\n",
       "    .dataframe thead th {\n",
       "        text-align: right;\n",
       "    }\n",
       "</style>\n",
       "<table border=\"1\" class=\"dataframe\">\n",
       "  <thead>\n",
       "    <tr style=\"text-align: right;\">\n",
       "      <th></th>\n",
       "      <th>countryCode</th>\n",
       "      <th>customerID</th>\n",
       "      <th>PaperlessDate</th>\n",
       "      <th>invoiceNumber</th>\n",
       "      <th>InvoiceDate</th>\n",
       "      <th>DueDate</th>\n",
       "      <th>InvoiceAmount</th>\n",
       "      <th>Disputed</th>\n",
       "      <th>SettledDate</th>\n",
       "      <th>PaperlessBill</th>\n",
       "      <th>DaysToSettle</th>\n",
       "      <th>DaysLate</th>\n",
       "    </tr>\n",
       "  </thead>\n",
       "  <tbody>\n",
       "    <tr>\n",
       "      <th>0</th>\n",
       "      <td>391</td>\n",
       "      <td>0379-NEVHP</td>\n",
       "      <td>4/6/2013</td>\n",
       "      <td>611365</td>\n",
       "      <td>1/2/2013</td>\n",
       "      <td>2/1/2013</td>\n",
       "      <td>55.94</td>\n",
       "      <td>No</td>\n",
       "      <td>1/15/2013</td>\n",
       "      <td>Paper</td>\n",
       "      <td>13</td>\n",
       "      <td>0</td>\n",
       "    </tr>\n",
       "    <tr>\n",
       "      <th>1</th>\n",
       "      <td>406</td>\n",
       "      <td>8976-AMJEO</td>\n",
       "      <td>3/3/2012</td>\n",
       "      <td>7900770</td>\n",
       "      <td>1/26/2013</td>\n",
       "      <td>2/25/2013</td>\n",
       "      <td>61.74</td>\n",
       "      <td>Yes</td>\n",
       "      <td>3/3/2013</td>\n",
       "      <td>Electronic</td>\n",
       "      <td>36</td>\n",
       "      <td>6</td>\n",
       "    </tr>\n",
       "    <tr>\n",
       "      <th>2</th>\n",
       "      <td>391</td>\n",
       "      <td>2820-XGXSB</td>\n",
       "      <td>1/26/2012</td>\n",
       "      <td>9231909</td>\n",
       "      <td>7/3/2013</td>\n",
       "      <td>8/2/2013</td>\n",
       "      <td>65.88</td>\n",
       "      <td>No</td>\n",
       "      <td>7/8/2013</td>\n",
       "      <td>Electronic</td>\n",
       "      <td>5</td>\n",
       "      <td>0</td>\n",
       "    </tr>\n",
       "    <tr>\n",
       "      <th>3</th>\n",
       "      <td>406</td>\n",
       "      <td>9322-YCTQO</td>\n",
       "      <td>4/6/2012</td>\n",
       "      <td>9888306</td>\n",
       "      <td>2/10/2013</td>\n",
       "      <td>3/12/2013</td>\n",
       "      <td>105.92</td>\n",
       "      <td>No</td>\n",
       "      <td>3/17/2013</td>\n",
       "      <td>Electronic</td>\n",
       "      <td>35</td>\n",
       "      <td>5</td>\n",
       "    </tr>\n",
       "    <tr>\n",
       "      <th>4</th>\n",
       "      <td>818</td>\n",
       "      <td>6627-ELFBK</td>\n",
       "      <td>11/26/2012</td>\n",
       "      <td>15752855</td>\n",
       "      <td>10/25/2012</td>\n",
       "      <td>11/24/2012</td>\n",
       "      <td>72.27</td>\n",
       "      <td>Yes</td>\n",
       "      <td>11/28/2012</td>\n",
       "      <td>Paper</td>\n",
       "      <td>34</td>\n",
       "      <td>4</td>\n",
       "    </tr>\n",
       "  </tbody>\n",
       "</table>\n",
       "</div>"
      ],
      "text/plain": [
       "   countryCode  customerID PaperlessDate  invoiceNumber InvoiceDate  \\\n",
       "0          391  0379-NEVHP      4/6/2013         611365    1/2/2013   \n",
       "1          406  8976-AMJEO      3/3/2012        7900770   1/26/2013   \n",
       "2          391  2820-XGXSB     1/26/2012        9231909    7/3/2013   \n",
       "3          406  9322-YCTQO      4/6/2012        9888306   2/10/2013   \n",
       "4          818  6627-ELFBK    11/26/2012       15752855  10/25/2012   \n",
       "\n",
       "      DueDate  InvoiceAmount Disputed SettledDate PaperlessBill  DaysToSettle  \\\n",
       "0    2/1/2013          55.94       No   1/15/2013         Paper            13   \n",
       "1   2/25/2013          61.74      Yes    3/3/2013    Electronic            36   \n",
       "2    8/2/2013          65.88       No    7/8/2013    Electronic             5   \n",
       "3   3/12/2013         105.92       No   3/17/2013    Electronic            35   \n",
       "4  11/24/2012          72.27      Yes  11/28/2012         Paper            34   \n",
       "\n",
       "   DaysLate  \n",
       "0         0  \n",
       "1         6  \n",
       "2         0  \n",
       "3         5  \n",
       "4         4  "
      ]
     },
     "execution_count": 11,
     "metadata": {},
     "output_type": "execute_result"
    }
   ],
   "source": [
    "# primeras lineas\n",
    "df_finance_AR.head(5)"
   ]
  },
  {
   "cell_type": "code",
   "execution_count": 13,
   "metadata": {},
   "outputs": [
    {
     "data": {
      "text/html": [
       "<div>\n",
       "<style scoped>\n",
       "    .dataframe tbody tr th:only-of-type {\n",
       "        vertical-align: middle;\n",
       "    }\n",
       "\n",
       "    .dataframe tbody tr th {\n",
       "        vertical-align: top;\n",
       "    }\n",
       "\n",
       "    .dataframe thead th {\n",
       "        text-align: right;\n",
       "    }\n",
       "</style>\n",
       "<table border=\"1\" class=\"dataframe\">\n",
       "  <thead>\n",
       "    <tr style=\"text-align: right;\">\n",
       "      <th></th>\n",
       "      <th>countryCode</th>\n",
       "      <th>customerID</th>\n",
       "      <th>PaperlessDate</th>\n",
       "      <th>invoiceNumber</th>\n",
       "      <th>InvoiceDate</th>\n",
       "      <th>DueDate</th>\n",
       "      <th>InvoiceAmount</th>\n",
       "      <th>Disputed</th>\n",
       "      <th>SettledDate</th>\n",
       "      <th>PaperlessBill</th>\n",
       "      <th>DaysToSettle</th>\n",
       "      <th>DaysLate</th>\n",
       "    </tr>\n",
       "  </thead>\n",
       "  <tbody>\n",
       "    <tr>\n",
       "      <th>2461</th>\n",
       "      <td>391</td>\n",
       "      <td>6708-DPYTF</td>\n",
       "      <td>8/2/2012</td>\n",
       "      <td>9982796720</td>\n",
       "      <td>10/18/2013</td>\n",
       "      <td>11/17/2013</td>\n",
       "      <td>79.61</td>\n",
       "      <td>No</td>\n",
       "      <td>12/1/2013</td>\n",
       "      <td>Electronic</td>\n",
       "      <td>44</td>\n",
       "      <td>14</td>\n",
       "    </tr>\n",
       "    <tr>\n",
       "      <th>2462</th>\n",
       "      <td>391</td>\n",
       "      <td>9841-XLGBV</td>\n",
       "      <td>1/3/2013</td>\n",
       "      <td>9983237240</td>\n",
       "      <td>9/19/2012</td>\n",
       "      <td>10/19/2012</td>\n",
       "      <td>38.25</td>\n",
       "      <td>No</td>\n",
       "      <td>10/13/2012</td>\n",
       "      <td>Paper</td>\n",
       "      <td>24</td>\n",
       "      <td>0</td>\n",
       "    </tr>\n",
       "    <tr>\n",
       "      <th>2463</th>\n",
       "      <td>770</td>\n",
       "      <td>7856-ODQFO</td>\n",
       "      <td>8/5/2012</td>\n",
       "      <td>9986249860</td>\n",
       "      <td>7/2/2012</td>\n",
       "      <td>8/1/2012</td>\n",
       "      <td>67.59</td>\n",
       "      <td>No</td>\n",
       "      <td>7/27/2012</td>\n",
       "      <td>Paper</td>\n",
       "      <td>25</td>\n",
       "      <td>0</td>\n",
       "    </tr>\n",
       "    <tr>\n",
       "      <th>2464</th>\n",
       "      <td>770</td>\n",
       "      <td>7050-KQLDO</td>\n",
       "      <td>9/29/2012</td>\n",
       "      <td>9989225541</td>\n",
       "      <td>4/27/2012</td>\n",
       "      <td>5/27/2012</td>\n",
       "      <td>53.16</td>\n",
       "      <td>No</td>\n",
       "      <td>5/18/2012</td>\n",
       "      <td>Paper</td>\n",
       "      <td>21</td>\n",
       "      <td>0</td>\n",
       "    </tr>\n",
       "    <tr>\n",
       "      <th>2465</th>\n",
       "      <td>406</td>\n",
       "      <td>9758-AIEIK</td>\n",
       "      <td>4/23/2012</td>\n",
       "      <td>9990243864</td>\n",
       "      <td>7/4/2013</td>\n",
       "      <td>8/3/2013</td>\n",
       "      <td>68.66</td>\n",
       "      <td>No</td>\n",
       "      <td>7/18/2013</td>\n",
       "      <td>Electronic</td>\n",
       "      <td>14</td>\n",
       "      <td>0</td>\n",
       "    </tr>\n",
       "  </tbody>\n",
       "</table>\n",
       "</div>"
      ],
      "text/plain": [
       "      countryCode  customerID PaperlessDate  invoiceNumber InvoiceDate  \\\n",
       "2461          391  6708-DPYTF      8/2/2012     9982796720  10/18/2013   \n",
       "2462          391  9841-XLGBV      1/3/2013     9983237240   9/19/2012   \n",
       "2463          770  7856-ODQFO      8/5/2012     9986249860    7/2/2012   \n",
       "2464          770  7050-KQLDO     9/29/2012     9989225541   4/27/2012   \n",
       "2465          406  9758-AIEIK     4/23/2012     9990243864    7/4/2013   \n",
       "\n",
       "         DueDate  InvoiceAmount Disputed SettledDate PaperlessBill  \\\n",
       "2461  11/17/2013          79.61       No   12/1/2013    Electronic   \n",
       "2462  10/19/2012          38.25       No  10/13/2012         Paper   \n",
       "2463    8/1/2012          67.59       No   7/27/2012         Paper   \n",
       "2464   5/27/2012          53.16       No   5/18/2012         Paper   \n",
       "2465    8/3/2013          68.66       No   7/18/2013    Electronic   \n",
       "\n",
       "      DaysToSettle  DaysLate  \n",
       "2461            44        14  \n",
       "2462            24         0  \n",
       "2463            25         0  \n",
       "2464            21         0  \n",
       "2465            14         0  "
      ]
     },
     "execution_count": 13,
     "metadata": {},
     "output_type": "execute_result"
    }
   ],
   "source": [
    "# Últimas lineas\n",
    "df_finance_AR.tail(5)"
   ]
  },
  {
   "cell_type": "code",
   "execution_count": 14,
   "metadata": {},
   "outputs": [
    {
     "data": {
      "text/plain": [
       "countryCode        int64\n",
       "customerID        object\n",
       "PaperlessDate     object\n",
       "invoiceNumber      int64\n",
       "InvoiceDate       object\n",
       "DueDate           object\n",
       "InvoiceAmount    float64\n",
       "Disputed          object\n",
       "SettledDate       object\n",
       "PaperlessBill     object\n",
       "DaysToSettle       int64\n",
       "DaysLate           int64\n",
       "dtype: object"
      ]
     },
     "execution_count": 14,
     "metadata": {},
     "output_type": "execute_result"
    }
   ],
   "source": [
    "df_finance_AR.dtypes"
   ]
  },
  {
   "cell_type": "code",
   "execution_count": 16,
   "metadata": {},
   "outputs": [
    {
     "name": "stdout",
     "output_type": "stream",
     "text": [
      "<class 'pandas.core.frame.DataFrame'>\n",
      "RangeIndex: 2466 entries, 0 to 2465\n",
      "Data columns (total 12 columns):\n",
      " #   Column         Non-Null Count  Dtype  \n",
      "---  ------         --------------  -----  \n",
      " 0   countryCode    2466 non-null   int64  \n",
      " 1   customerID     2466 non-null   object \n",
      " 2   PaperlessDate  2466 non-null   object \n",
      " 3   invoiceNumber  2466 non-null   int64  \n",
      " 4   InvoiceDate    2466 non-null   object \n",
      " 5   DueDate        2466 non-null   object \n",
      " 6   InvoiceAmount  2466 non-null   float64\n",
      " 7   Disputed       2466 non-null   object \n",
      " 8   SettledDate    2466 non-null   object \n",
      " 9   PaperlessBill  2466 non-null   object \n",
      " 10  DaysToSettle   2466 non-null   int64  \n",
      " 11  DaysLate       2466 non-null   int64  \n",
      "dtypes: float64(1), int64(4), object(7)\n",
      "memory usage: 231.3+ KB\n"
     ]
    }
   ],
   "source": [
    "df_finance_AR.info()"
   ]
  }
 ],
 "metadata": {
  "kernelspec": {
   "display_name": "Python 3",
   "language": "python",
   "name": "python3"
  },
  "language_info": {
   "codemirror_mode": {
    "name": "ipython",
    "version": 3
   },
   "file_extension": ".py",
   "mimetype": "text/x-python",
   "name": "python",
   "nbconvert_exporter": "python",
   "pygments_lexer": "ipython3",
   "version": "3.13.0"
  }
 },
 "nbformat": 4,
 "nbformat_minor": 2
}
